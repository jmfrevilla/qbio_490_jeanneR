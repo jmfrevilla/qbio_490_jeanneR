{
 "cells": [
  {
   "cell_type": "markdown",
   "id": "2f892e10",
   "metadata": {},
   "source": [
    "# Import Data / Tool Downloads"
   ]
  },
  {
   "cell_type": "code",
   "execution_count": 1,
   "id": "1c876fef",
   "metadata": {},
   "outputs": [],
   "source": [
    "import cptac\n",
    "import numpy as np\n",
    "import pandas as pd\n",
    "import os\n",
    "import matplotlib.pyplot as plt\n",
    "\n",
    "import warnings\n",
    "warnings.filterwarnings('ignore')"
   ]
  },
  {
   "cell_type": "code",
   "execution_count": 2,
   "id": "a5a2a526",
   "metadata": {},
   "outputs": [],
   "source": [
    "os.chdir(\"/Users/mi/Desktop/QBIO/qbio_490_jeanneR/analysis_data\")"
   ]
  },
  {
   "cell_type": "code",
   "execution_count": 3,
   "id": "1a6815ef",
   "metadata": {},
   "outputs": [
    {
     "name": "stdout",
     "output_type": "stream",
     "text": [
      "                                          \r"
     ]
    },
    {
     "data": {
      "text/plain": [
       "True"
      ]
     },
     "execution_count": 3,
     "metadata": {},
     "output_type": "execute_result"
    }
   ],
   "source": [
    "cptac.download('CCRCC')"
   ]
  },
  {
   "cell_type": "code",
   "execution_count": 4,
   "id": "e378b268",
   "metadata": {},
   "outputs": [
    {
     "name": "stdout",
     "output_type": "stream",
     "text": [
      "                                          \r"
     ]
    }
   ],
   "source": [
    "ccrcc = cptac.Ccrcc()\n",
    "\n",
    "clinical = ccrcc.get_clinical() # Clinical Data\n",
    "rna = ccrcc.get_transcriptomics() # Transcriptomic Data\n",
    "protein = ccrcc.get_proteomics() # Proteomic Data\n",
    "protein.columns = protein.columns.get_level_values(0) # Fix protein data columns\n"
   ]
  },
  {
   "cell_type": "markdown",
   "id": "84b818ee",
   "metadata": {},
   "source": [
    "# pre-processing"
   ]
  },
  {
   "cell_type": "code",
   "execution_count": 20,
   "id": "cc2ee180",
   "metadata": {},
   "outputs": [],
   "source": [
    "#removal of NAs in tumor stage\n",
    "na_mask = clinical.loc[:, 'tumor_stage_pathological'].isna()\n",
    "masked_clinical = clinical.loc[~na_mask, :]\n",
    "masked_rna = rna.loc[~na_mask, :]\n",
    "masked_protein = protein.loc[~na_mask, :]\n",
    "\n",
    "#log scaling of RNA data/replacing infinity with NA\n",
    "masked_rna = masked_rna.apply(np.log2)\n",
    "masked_rna = masked_rna.replace(-np.inf, np.nan)\n",
    "masked_rna = masked_rna.replace(np.inf, np.nan)\n",
    "\n",
    "#removal of NAs in protein / rna counts\n",
    "gene_na_mask = masked_rna.isna().sum() == 0\n",
    "masked_rna = masked_rna.loc[:, gene_na_mask]\n",
    "\n",
    "protein_na_mask = masked_protein.isna().sum() == 0\n",
    "masked_protein = masked_protein.loc[:, protein_na_mask]"
   ]
  },
  {
   "cell_type": "markdown",
   "id": "f627c9dd",
   "metadata": {},
   "source": [
    "# Step 1: most differentially expressed proteins and RNA"
   ]
  },
  {
   "cell_type": "code",
   "execution_count": 6,
   "id": "4886abb3",
   "metadata": {},
   "outputs": [
    {
     "data": {
      "text/plain": [
       "Index(['FTL', 'HBZ', 'HBA2', 'CMA1', 'HBB'], dtype='object', name='Name')"
      ]
     },
     "execution_count": 6,
     "metadata": {},
     "output_type": "execute_result"
    }
   ],
   "source": [
    "#create masks separating stage I and stage III\n",
    "one_mask = masked_clinical.loc[:, 'tumor_stage_pathological'] == 'Stage I'\n",
    "three_mask = masked_clinical.loc[:, 'tumor_stage_pathological'] == 'Stage III'\n",
    "\n",
    "#top 5 most differentially expressed in protein\n",
    "Pdiff = abs(masked_protein.loc[three_mask, :].mean() - masked_protein.loc[one_mask, :].mean())\n",
    "Pshared_mask = Pdiff.index.isin(masked_rna.columns)\n",
    "top5_protein = Pdiff.sort_values(ascending=False)[:5].index\n",
    "\n",
    "top5_protein"
   ]
  },
  {
   "cell_type": "code",
   "execution_count": 7,
   "id": "b7fae90e",
   "metadata": {},
   "outputs": [
    {
     "data": {
      "text/plain": [
       "Index(['DPEP1', 'FABP7', 'HP', 'IGF2', 'LGALS4'], dtype='object', name='Name')"
      ]
     },
     "execution_count": 7,
     "metadata": {},
     "output_type": "execute_result"
    }
   ],
   "source": [
    "#top 5 most differentially expressed in RNA\n",
    "Rdiff = abs(masked_rna.loc[one_mask, :].mean() - masked_rna.loc[three_mask, :].mean())\n",
    "Rshared_mask = Rdiff.index.isin(masked_protein.columns)\n",
    "top5_rna = Rdiff[Rshared_mask].sort_values(ascending=False)[:5].index\n",
    "\n",
    "top5_rna"
   ]
  },
  {
   "cell_type": "markdown",
   "id": "39f72976",
   "metadata": {},
   "source": [
    "# Step 2: making the new DF (our X data)"
   ]
  },
  {
   "cell_type": "code",
   "execution_count": 165,
   "id": "eaf50ce1",
   "metadata": {},
   "outputs": [
    {
     "data": {
      "text/plain": [
       "Index(['FTL', 'HBZ', 'HBA2', 'CMA1', 'HBB'], dtype='object', name='Name')"
      ]
     },
     "execution_count": 165,
     "metadata": {},
     "output_type": "execute_result"
    }
   ],
   "source": [
    "top5_protein"
   ]
  },
  {
   "cell_type": "code",
   "execution_count": 166,
   "id": "a86505dc",
   "metadata": {},
   "outputs": [
    {
     "data": {
      "text/plain": [
       "Index(['DPEP1', 'FABP7', 'HP', 'IGF2', 'LGALS4'], dtype='object', name='Name')"
      ]
     },
     "execution_count": 166,
     "metadata": {},
     "output_type": "execute_result"
    }
   ],
   "source": [
    "top5_rna"
   ]
  },
  {
   "cell_type": "code",
   "execution_count": 8,
   "id": "fc0e0d86",
   "metadata": {},
   "outputs": [
    {
     "data": {
      "text/html": [
       "<div>\n",
       "<style scoped>\n",
       "    .dataframe tbody tr th:only-of-type {\n",
       "        vertical-align: middle;\n",
       "    }\n",
       "\n",
       "    .dataframe tbody tr th {\n",
       "        vertical-align: top;\n",
       "    }\n",
       "\n",
       "    .dataframe thead th {\n",
       "        text-align: right;\n",
       "    }\n",
       "</style>\n",
       "<table border=\"1\" class=\"dataframe\">\n",
       "  <thead>\n",
       "    <tr style=\"text-align: right;\">\n",
       "      <th></th>\n",
       "      <th>FTL</th>\n",
       "      <th>HBZ</th>\n",
       "      <th>HBA2</th>\n",
       "      <th>CMA1</th>\n",
       "      <th>HBB</th>\n",
       "      <th>DPEP1</th>\n",
       "      <th>FABP7</th>\n",
       "      <th>HP</th>\n",
       "      <th>IGF2</th>\n",
       "      <th>LGALS4</th>\n",
       "    </tr>\n",
       "    <tr>\n",
       "      <th>Patient_ID</th>\n",
       "      <th></th>\n",
       "      <th></th>\n",
       "      <th></th>\n",
       "      <th></th>\n",
       "      <th></th>\n",
       "      <th></th>\n",
       "      <th></th>\n",
       "      <th></th>\n",
       "      <th></th>\n",
       "      <th></th>\n",
       "    </tr>\n",
       "  </thead>\n",
       "  <tbody>\n",
       "    <tr>\n",
       "      <th>C3L-00004</th>\n",
       "      <td>-1.724339</td>\n",
       "      <td>-0.370098</td>\n",
       "      <td>-0.786307</td>\n",
       "      <td>-0.918273</td>\n",
       "      <td>-0.762287</td>\n",
       "      <td>-1.239811</td>\n",
       "      <td>3.389993</td>\n",
       "      <td>-0.638359</td>\n",
       "      <td>-2.716588</td>\n",
       "      <td>-0.010823</td>\n",
       "    </tr>\n",
       "    <tr>\n",
       "      <th>C3L-00010</th>\n",
       "      <td>-0.363228</td>\n",
       "      <td>0.240576</td>\n",
       "      <td>-0.081263</td>\n",
       "      <td>0.74786</td>\n",
       "      <td>-0.034944</td>\n",
       "      <td>4.515644</td>\n",
       "      <td>1.642512</td>\n",
       "      <td>-1.587265</td>\n",
       "      <td>-0.046563</td>\n",
       "      <td>-0.826224</td>\n",
       "    </tr>\n",
       "    <tr>\n",
       "      <th>C3L-00011</th>\n",
       "      <td>-0.977364</td>\n",
       "      <td>-0.087641</td>\n",
       "      <td>-0.418663</td>\n",
       "      <td>-0.255054</td>\n",
       "      <td>-0.371128</td>\n",
       "      <td>-1.955016</td>\n",
       "      <td>3.150152</td>\n",
       "      <td>2.383658</td>\n",
       "      <td>0.242121</td>\n",
       "      <td>-2.455629</td>\n",
       "    </tr>\n",
       "    <tr>\n",
       "      <th>C3L-00026</th>\n",
       "      <td>1.30193</td>\n",
       "      <td>0.98193</td>\n",
       "      <td>0.780756</td>\n",
       "      <td>0.049086</td>\n",
       "      <td>0.855097</td>\n",
       "      <td>4.63543</td>\n",
       "      <td>-0.695299</td>\n",
       "      <td>-2.332735</td>\n",
       "      <td>-1.3459</td>\n",
       "      <td>-0.53051</td>\n",
       "    </tr>\n",
       "    <tr>\n",
       "      <th>C3L-00079</th>\n",
       "      <td>-1.496648</td>\n",
       "      <td>-0.441854</td>\n",
       "      <td>-1.014088</td>\n",
       "      <td>-0.620829</td>\n",
       "      <td>-0.939448</td>\n",
       "      <td>0.376214</td>\n",
       "      <td>3.146078</td>\n",
       "      <td>-0.307823</td>\n",
       "      <td>-3.112058</td>\n",
       "      <td>1.066195</td>\n",
       "    </tr>\n",
       "    <tr>\n",
       "      <th>...</th>\n",
       "      <td>...</td>\n",
       "      <td>...</td>\n",
       "      <td>...</td>\n",
       "      <td>...</td>\n",
       "      <td>...</td>\n",
       "      <td>...</td>\n",
       "      <td>...</td>\n",
       "      <td>...</td>\n",
       "      <td>...</td>\n",
       "      <td>...</td>\n",
       "    </tr>\n",
       "    <tr>\n",
       "      <th>C3N-01646</th>\n",
       "      <td>-1.81712</td>\n",
       "      <td>-0.724017</td>\n",
       "      <td>-1.180566</td>\n",
       "      <td>-0.000699</td>\n",
       "      <td>-1.127855</td>\n",
       "      <td>-0.946572</td>\n",
       "      <td>-3.295649</td>\n",
       "      <td>2.290917</td>\n",
       "      <td>-1.356234</td>\n",
       "      <td>0.687761</td>\n",
       "    </tr>\n",
       "    <tr>\n",
       "      <th>C3N-01648</th>\n",
       "      <td>0.459593</td>\n",
       "      <td>-0.396638</td>\n",
       "      <td>-0.672383</td>\n",
       "      <td>-0.611409</td>\n",
       "      <td>-0.605164</td>\n",
       "      <td>2.734819</td>\n",
       "      <td>-3.385171</td>\n",
       "      <td>-0.768065</td>\n",
       "      <td>2.005039</td>\n",
       "      <td>-1.333174</td>\n",
       "    </tr>\n",
       "    <tr>\n",
       "      <th>C3N-01649</th>\n",
       "      <td>-1.066512</td>\n",
       "      <td>-0.10963</td>\n",
       "      <td>-0.584516</td>\n",
       "      <td>0.322161</td>\n",
       "      <td>-0.527777</td>\n",
       "      <td>3.354027</td>\n",
       "      <td>0.200644</td>\n",
       "      <td>0.89752</td>\n",
       "      <td>1.843279</td>\n",
       "      <td>-1.020377</td>\n",
       "    </tr>\n",
       "    <tr>\n",
       "      <th>C3N-01651</th>\n",
       "      <td>-1.895398</td>\n",
       "      <td>-0.096922</td>\n",
       "      <td>-0.649448</td>\n",
       "      <td>-0.302394</td>\n",
       "      <td>-0.571897</td>\n",
       "      <td>-0.554359</td>\n",
       "      <td>8.011803</td>\n",
       "      <td>-1.366501</td>\n",
       "      <td>-0.953134</td>\n",
       "      <td>8.433732</td>\n",
       "    </tr>\n",
       "    <tr>\n",
       "      <th>C3N-01808</th>\n",
       "      <td>1.895297</td>\n",
       "      <td>2.056017</td>\n",
       "      <td>1.485439</td>\n",
       "      <td>-1.125322</td>\n",
       "      <td>1.538612</td>\n",
       "      <td>4.861775</td>\n",
       "      <td>0.041351</td>\n",
       "      <td>-2.29668</td>\n",
       "      <td>0.262639</td>\n",
       "      <td>3.077117</td>\n",
       "    </tr>\n",
       "  </tbody>\n",
       "</table>\n",
       "<p>110 rows × 10 columns</p>\n",
       "</div>"
      ],
      "text/plain": [
       "                 FTL       HBZ      HBA2      CMA1       HBB     DPEP1  \\\n",
       "Patient_ID                                                               \n",
       "C3L-00004  -1.724339 -0.370098 -0.786307 -0.918273 -0.762287 -1.239811   \n",
       "C3L-00010  -0.363228  0.240576 -0.081263   0.74786 -0.034944  4.515644   \n",
       "C3L-00011  -0.977364 -0.087641 -0.418663 -0.255054 -0.371128 -1.955016   \n",
       "C3L-00026    1.30193   0.98193  0.780756  0.049086  0.855097   4.63543   \n",
       "C3L-00079  -1.496648 -0.441854 -1.014088 -0.620829 -0.939448  0.376214   \n",
       "...              ...       ...       ...       ...       ...       ...   \n",
       "C3N-01646   -1.81712 -0.724017 -1.180566 -0.000699 -1.127855 -0.946572   \n",
       "C3N-01648   0.459593 -0.396638 -0.672383 -0.611409 -0.605164  2.734819   \n",
       "C3N-01649  -1.066512  -0.10963 -0.584516  0.322161 -0.527777  3.354027   \n",
       "C3N-01651  -1.895398 -0.096922 -0.649448 -0.302394 -0.571897 -0.554359   \n",
       "C3N-01808   1.895297  2.056017  1.485439 -1.125322  1.538612  4.861775   \n",
       "\n",
       "               FABP7        HP      IGF2    LGALS4  \n",
       "Patient_ID                                          \n",
       "C3L-00004   3.389993 -0.638359 -2.716588 -0.010823  \n",
       "C3L-00010   1.642512 -1.587265 -0.046563 -0.826224  \n",
       "C3L-00011   3.150152  2.383658  0.242121 -2.455629  \n",
       "C3L-00026  -0.695299 -2.332735   -1.3459  -0.53051  \n",
       "C3L-00079   3.146078 -0.307823 -3.112058  1.066195  \n",
       "...              ...       ...       ...       ...  \n",
       "C3N-01646  -3.295649  2.290917 -1.356234  0.687761  \n",
       "C3N-01648  -3.385171 -0.768065  2.005039 -1.333174  \n",
       "C3N-01649   0.200644   0.89752  1.843279 -1.020377  \n",
       "C3N-01651   8.011803 -1.366501 -0.953134  8.433732  \n",
       "C3N-01808   0.041351  -2.29668  0.262639  3.077117  \n",
       "\n",
       "[110 rows x 10 columns]"
      ]
     },
     "execution_count": 8,
     "metadata": {},
     "output_type": "execute_result"
    }
   ],
   "source": [
    "analysis_df = pd.DataFrame(\n",
    "    columns=['FTL', 'HBZ', 'HBA2', 'CMA1', 'HBB','DPEP1', 'FABP7', 'HP', 'IGF2', 'LGALS4'], \n",
    "    index=masked_clinical.index)\n",
    "\n",
    "#data filled in from proteins\n",
    "analysis_df.loc[:, 'FTL'] = masked_protein.loc[:, 'FTL']\n",
    "analysis_df.loc[:, 'HBZ'] = masked_protein.loc[:, 'HBZ']\n",
    "analysis_df.loc[:, 'HBA2'] = masked_protein.loc[:, 'HBA2']\n",
    "analysis_df.loc[:, 'CMA1'] = masked_protein.loc[:, 'CMA1']\n",
    "analysis_df.loc[:, 'HBB'] = masked_protein.loc[:, 'HBB']\n",
    "\n",
    "#data filled in from RNA\n",
    "analysis_df.loc[:, 'DPEP1'] = masked_rna.loc[:, 'DPEP1']\n",
    "analysis_df.loc[:, 'FABP7'] = masked_rna.loc[:, 'FABP7']\n",
    "analysis_df.loc[:, 'HP'] = masked_rna.loc[:, 'HP']\n",
    "analysis_df.loc[:, 'IGF2'] = masked_rna.loc[:, 'IGF2']\n",
    "analysis_df.loc[:, 'LGALS4'] = masked_rna.loc[:, 'LGALS4']\n",
    "\n",
    "analysis_df"
   ]
  },
  {
   "cell_type": "markdown",
   "id": "b6da2000",
   "metadata": {},
   "source": [
    "# Step 3: making the list of tumor definitions"
   ]
  },
  {
   "cell_type": "code",
   "execution_count": 9,
   "id": "3cd20f41",
   "metadata": {},
   "outputs": [
    {
     "data": {
      "text/plain": [
       "Patient_ID\n",
       "C3L-00004    Stage III\n",
       "C3L-00010      Stage I\n",
       "C3L-00011     Stage IV\n",
       "C3L-00026      Stage I\n",
       "C3L-00079    Stage III\n",
       "               ...    \n",
       "C3N-01646    Stage III\n",
       "C3N-01648     Stage II\n",
       "C3N-01649    Stage III\n",
       "C3N-01651     Stage II\n",
       "C3N-01808      Stage I\n",
       "Name: tumor_stage_pathological, Length: 110, dtype: object"
      ]
     },
     "execution_count": 9,
     "metadata": {},
     "output_type": "execute_result"
    }
   ],
   "source": [
    "stage_list = masked_clinical['tumor_stage_pathological']\n",
    "stage_list"
   ]
  },
  {
   "cell_type": "markdown",
   "id": "7d37abdd",
   "metadata": {},
   "source": [
    "# Step 4: scaling and encoding"
   ]
  },
  {
   "cell_type": "code",
   "execution_count": 33,
   "id": "04fd691f",
   "metadata": {},
   "outputs": [
    {
     "data": {
      "text/plain": [
       "Patient_ID\n",
       "C3L-00004    2.0\n",
       "C3L-00010    0.0\n",
       "C3L-00011    3.0\n",
       "C3L-00026    0.0\n",
       "C3L-00079    2.0\n",
       "            ... \n",
       "C3N-01646    2.0\n",
       "C3N-01648    1.0\n",
       "C3N-01649    2.0\n",
       "C3N-01651    1.0\n",
       "C3N-01808    0.0\n",
       "Name: tumor_stage_pathological, Length: 110, dtype: object"
      ]
     },
     "execution_count": 33,
     "metadata": {},
     "output_type": "execute_result"
    }
   ],
   "source": [
    "from sklearn.preprocessing import OrdinalEncoder\n",
    "\n",
    "encoder = OrdinalEncoder()\n",
    "unencoded_columns = masked_clinical.loc[:, ['tumor_stage_pathological']]\n",
    "encoded_columns = encoder.fit_transform(unencoded_columns)\n",
    "masked_clinical.loc[:, ['tumor_stage_pathological']] = encoded_columns #names the columns again\n",
    "\n",
    "stage_list = masked_clinical['tumor_stage_pathological']\n",
    "stage_list\n"
   ]
  },
  {
   "cell_type": "code",
   "execution_count": 24,
   "id": "0eb3fd0a",
   "metadata": {},
   "outputs": [],
   "source": [
    "from sklearn.preprocessing import StandardScaler\n",
    "\n",
    "scaler = StandardScaler()\n",
    "\n",
    "scaled_data = scaler.fit_transform(analysis_df)"
   ]
  },
  {
   "cell_type": "code",
   "execution_count": 59,
   "id": "dfeea795",
   "metadata": {},
   "outputs": [
    {
     "data": {
      "text/html": [
       "<div>\n",
       "<style scoped>\n",
       "    .dataframe tbody tr th:only-of-type {\n",
       "        vertical-align: middle;\n",
       "    }\n",
       "\n",
       "    .dataframe tbody tr th {\n",
       "        vertical-align: top;\n",
       "    }\n",
       "\n",
       "    .dataframe thead th {\n",
       "        text-align: right;\n",
       "    }\n",
       "</style>\n",
       "<table border=\"1\" class=\"dataframe\">\n",
       "  <thead>\n",
       "    <tr style=\"text-align: right;\">\n",
       "      <th></th>\n",
       "      <th>FTL</th>\n",
       "      <th>HBZ</th>\n",
       "      <th>HBA2</th>\n",
       "      <th>CMA1</th>\n",
       "      <th>HBB</th>\n",
       "      <th>DPEP1</th>\n",
       "      <th>FABP7</th>\n",
       "      <th>HP</th>\n",
       "      <th>IGF2</th>\n",
       "      <th>LGALS4</th>\n",
       "    </tr>\n",
       "    <tr>\n",
       "      <th>Patient_ID</th>\n",
       "      <th></th>\n",
       "      <th></th>\n",
       "      <th></th>\n",
       "      <th></th>\n",
       "      <th></th>\n",
       "      <th></th>\n",
       "      <th></th>\n",
       "      <th></th>\n",
       "      <th></th>\n",
       "      <th></th>\n",
       "    </tr>\n",
       "  </thead>\n",
       "  <tbody>\n",
       "    <tr>\n",
       "      <th>C3L-00004</th>\n",
       "      <td>-1.023771</td>\n",
       "      <td>-0.901621</td>\n",
       "      <td>-1.072661</td>\n",
       "      <td>-1.017216</td>\n",
       "      <td>-1.153689</td>\n",
       "      <td>-1.172213</td>\n",
       "      <td>0.377417</td>\n",
       "      <td>-0.191959</td>\n",
       "      <td>-1.001276</td>\n",
       "      <td>-0.321008</td>\n",
       "    </tr>\n",
       "    <tr>\n",
       "      <th>C3L-00010</th>\n",
       "      <td>0.004761</td>\n",
       "      <td>-0.150770</td>\n",
       "      <td>-0.296003</td>\n",
       "      <td>1.494525</td>\n",
       "      <td>-0.300597</td>\n",
       "      <td>1.322653</td>\n",
       "      <td>-0.084850</td>\n",
       "      <td>-0.583287</td>\n",
       "      <td>0.296542</td>\n",
       "      <td>-0.616494</td>\n",
       "    </tr>\n",
       "    <tr>\n",
       "      <th>C3L-00011</th>\n",
       "      <td>-0.459315</td>\n",
       "      <td>-0.554328</td>\n",
       "      <td>-0.667674</td>\n",
       "      <td>-0.017395</td>\n",
       "      <td>-0.694904</td>\n",
       "      <td>-1.482239</td>\n",
       "      <td>0.313971</td>\n",
       "      <td>1.054318</td>\n",
       "      <td>0.436862</td>\n",
       "      <td>-1.206959</td>\n",
       "    </tr>\n",
       "    <tr>\n",
       "      <th>C3L-00026</th>\n",
       "      <td>1.263046</td>\n",
       "      <td>0.760760</td>\n",
       "      <td>0.653575</td>\n",
       "      <td>0.441104</td>\n",
       "      <td>0.743321</td>\n",
       "      <td>1.374578</td>\n",
       "      <td>-0.703278</td>\n",
       "      <td>-0.890718</td>\n",
       "      <td>-0.335026</td>\n",
       "      <td>-0.509333</td>\n",
       "    </tr>\n",
       "    <tr>\n",
       "      <th>C3L-00079</th>\n",
       "      <td>-0.851714</td>\n",
       "      <td>-0.989849</td>\n",
       "      <td>-1.323579</td>\n",
       "      <td>-0.568812</td>\n",
       "      <td>-1.361479</td>\n",
       "      <td>-0.471701</td>\n",
       "      <td>0.312893</td>\n",
       "      <td>-0.055646</td>\n",
       "      <td>-1.193502</td>\n",
       "      <td>0.069282</td>\n",
       "    </tr>\n",
       "    <tr>\n",
       "      <th>...</th>\n",
       "      <td>...</td>\n",
       "      <td>...</td>\n",
       "      <td>...</td>\n",
       "      <td>...</td>\n",
       "      <td>...</td>\n",
       "      <td>...</td>\n",
       "      <td>...</td>\n",
       "      <td>...</td>\n",
       "      <td>...</td>\n",
       "      <td>...</td>\n",
       "    </tr>\n",
       "    <tr>\n",
       "      <th>C3N-01646</th>\n",
       "      <td>-1.093880</td>\n",
       "      <td>-1.336781</td>\n",
       "      <td>-1.506967</td>\n",
       "      <td>0.366051</td>\n",
       "      <td>-1.582459</td>\n",
       "      <td>-1.045100</td>\n",
       "      <td>-1.391157</td>\n",
       "      <td>1.016071</td>\n",
       "      <td>-0.340050</td>\n",
       "      <td>-0.067855</td>\n",
       "    </tr>\n",
       "    <tr>\n",
       "      <th>C3N-01648</th>\n",
       "      <td>0.626530</td>\n",
       "      <td>-0.934254</td>\n",
       "      <td>-0.947165</td>\n",
       "      <td>-0.554611</td>\n",
       "      <td>-0.969402</td>\n",
       "      <td>0.550704</td>\n",
       "      <td>-1.414838</td>\n",
       "      <td>-0.245450</td>\n",
       "      <td>1.293763</td>\n",
       "      <td>-0.800202</td>\n",
       "    </tr>\n",
       "    <tr>\n",
       "      <th>C3N-01649</th>\n",
       "      <td>-0.526680</td>\n",
       "      <td>-0.581364</td>\n",
       "      <td>-0.850373</td>\n",
       "      <td>0.852772</td>\n",
       "      <td>-0.878635</td>\n",
       "      <td>0.819117</td>\n",
       "      <td>-0.466272</td>\n",
       "      <td>0.441436</td>\n",
       "      <td>1.215137</td>\n",
       "      <td>-0.686851</td>\n",
       "    </tr>\n",
       "    <tr>\n",
       "      <th>C3N-01651</th>\n",
       "      <td>-1.153032</td>\n",
       "      <td>-0.565739</td>\n",
       "      <td>-0.921901</td>\n",
       "      <td>-0.088762</td>\n",
       "      <td>-0.930383</td>\n",
       "      <td>-0.875084</td>\n",
       "      <td>1.600038</td>\n",
       "      <td>-0.492244</td>\n",
       "      <td>-0.144115</td>\n",
       "      <td>2.739135</td>\n",
       "    </tr>\n",
       "    <tr>\n",
       "      <th>C3N-01808</th>\n",
       "      <td>1.711428</td>\n",
       "      <td>2.081399</td>\n",
       "      <td>1.429835</td>\n",
       "      <td>-1.329348</td>\n",
       "      <td>1.545008</td>\n",
       "      <td>1.472693</td>\n",
       "      <td>-0.508410</td>\n",
       "      <td>-0.875849</td>\n",
       "      <td>0.446835</td>\n",
       "      <td>0.798002</td>\n",
       "    </tr>\n",
       "  </tbody>\n",
       "</table>\n",
       "<p>110 rows × 10 columns</p>\n",
       "</div>"
      ],
      "text/plain": [
       "                 FTL       HBZ      HBA2      CMA1       HBB     DPEP1  \\\n",
       "Patient_ID                                                               \n",
       "C3L-00004  -1.023771 -0.901621 -1.072661 -1.017216 -1.153689 -1.172213   \n",
       "C3L-00010   0.004761 -0.150770 -0.296003  1.494525 -0.300597  1.322653   \n",
       "C3L-00011  -0.459315 -0.554328 -0.667674 -0.017395 -0.694904 -1.482239   \n",
       "C3L-00026   1.263046  0.760760  0.653575  0.441104  0.743321  1.374578   \n",
       "C3L-00079  -0.851714 -0.989849 -1.323579 -0.568812 -1.361479 -0.471701   \n",
       "...              ...       ...       ...       ...       ...       ...   \n",
       "C3N-01646  -1.093880 -1.336781 -1.506967  0.366051 -1.582459 -1.045100   \n",
       "C3N-01648   0.626530 -0.934254 -0.947165 -0.554611 -0.969402  0.550704   \n",
       "C3N-01649  -0.526680 -0.581364 -0.850373  0.852772 -0.878635  0.819117   \n",
       "C3N-01651  -1.153032 -0.565739 -0.921901 -0.088762 -0.930383 -0.875084   \n",
       "C3N-01808   1.711428  2.081399  1.429835 -1.329348  1.545008  1.472693   \n",
       "\n",
       "               FABP7        HP      IGF2    LGALS4  \n",
       "Patient_ID                                          \n",
       "C3L-00004   0.377417 -0.191959 -1.001276 -0.321008  \n",
       "C3L-00010  -0.084850 -0.583287  0.296542 -0.616494  \n",
       "C3L-00011   0.313971  1.054318  0.436862 -1.206959  \n",
       "C3L-00026  -0.703278 -0.890718 -0.335026 -0.509333  \n",
       "C3L-00079   0.312893 -0.055646 -1.193502  0.069282  \n",
       "...              ...       ...       ...       ...  \n",
       "C3N-01646  -1.391157  1.016071 -0.340050 -0.067855  \n",
       "C3N-01648  -1.414838 -0.245450  1.293763 -0.800202  \n",
       "C3N-01649  -0.466272  0.441436  1.215137 -0.686851  \n",
       "C3N-01651   1.600038 -0.492244 -0.144115  2.739135  \n",
       "C3N-01808  -0.508410 -0.875849  0.446835  0.798002  \n",
       "\n",
       "[110 rows x 10 columns]"
      ]
     },
     "execution_count": 59,
     "metadata": {},
     "output_type": "execute_result"
    }
   ],
   "source": [
    "pd.DataFrame(scaled_data, index=analysis_df.index, columns=analysis_df.columns)\n"
   ]
  },
  {
   "cell_type": "markdown",
   "id": "477d5ce8",
   "metadata": {},
   "source": [
    "# Step 5: creating the train test split"
   ]
  },
  {
   "cell_type": "code",
   "execution_count": 67,
   "id": "9a187100",
   "metadata": {},
   "outputs": [
    {
     "name": "stdout",
     "output_type": "stream",
     "text": [
      "(77, 10)\n",
      "(33, 10)\n",
      "(77,)\n",
      "(33,)\n"
     ]
    }
   ],
   "source": [
    "from sklearn.model_selection import train_test_split\n",
    "\n",
    "\n",
    "stage_list = np.array(stage_list)\n",
    "stage_list=stage_list.astype('int')\n",
    "\n",
    "X_train, X_test, y_train, y_test = train_test_split(scaled_data, stage_list, train_size=0.7)\n",
    "\n",
    "np.array(X_test)\n",
    "\n",
    "print(X_train.shape) # dataset split by train size\n",
    "print(X_test.shape) # dataset not included in above dataset\n",
    "print(y_train.shape) # labels for corresponding X_train\n",
    "print(y_test.shape) # labels for corresponding X_test\n"
   ]
  },
  {
   "cell_type": "markdown",
   "id": "f8d1147f",
   "metadata": {},
   "source": [
    "# Step 6: classification and accuracy"
   ]
  },
  {
   "cell_type": "code",
   "execution_count": 74,
   "id": "e42c978d",
   "metadata": {},
   "outputs": [
    {
     "name": "stdout",
     "output_type": "stream",
     "text": [
      "\n",
      "After 10 simulations, the average accuracy for each regressor is as follows:\n",
      "\tNearest Neighbors : 0.5363636363636364\n",
      "\tDecision Tree : 0.4242424242424242\n",
      "\tMLPC : 0.5575757575757576\n",
      "\tGaussianNB : 0.5303030303030303\n"
     ]
    }
   ],
   "source": [
    "from sklearn.neighbors import KNeighborsClassifier \n",
    "from sklearn.tree import DecisionTreeClassifier\n",
    "from sklearn.neural_network import MLPClassifier\n",
    "from sklearn.naive_bayes import GaussianNB\n",
    "\n",
    "from sklearn.model_selection import train_test_split\n",
    "\n",
    "classifiers_names = [\n",
    "    'Nearest Neighbors', \n",
    "    'Decision Tree', \n",
    "    'MLPC',\n",
    "    'GaussianNB'\n",
    "]\n",
    "\n",
    "classifiers = [\n",
    "    KNeighborsClassifier(),\n",
    "    DecisionTreeClassifier(),\n",
    "    MLPClassifier(),\n",
    "    GaussianNB()\n",
    "]\n",
    "\n",
    "classifiers_perf = {\n",
    "    0: [],\n",
    "    1: [],\n",
    "    2: [],\n",
    "    3: [],\n",
    "}\n",
    "\n",
    "for n in range(10):\n",
    "    X_train, X_test, y_train, y_test = train_test_split(analysis_df, stage_list, train_size=0.7)\n",
    "    np.array(X_test)\n",
    "    for i in range(len(classifiers)):\n",
    "        model = classifiers[i]\n",
    "        model.fit(X_train, y_train)\n",
    "        y_pred = model.predict(X_test)\n",
    "\n",
    "        accuracy = sum(y_pred == y_test) / len(y_test)\n",
    "        classifiers_perf[i].append(abs(np.mean(accuracy)))\n",
    "\n",
    "\n",
    "        \n",
    "print('\\nAfter 10 simulations, the average accuracy for each regressor is as follows:')\n",
    "for i in classifiers_perf:\n",
    "    print(f'\\t{classifiers_names[i]} : {np.mean(classifiers_perf[i])}')"
   ]
  },
  {
   "cell_type": "markdown",
   "id": "52947519",
   "metadata": {},
   "source": [
    "# Step 7: comparison"
   ]
  },
  {
   "cell_type": "markdown",
   "id": "b121e9c6",
   "metadata": {},
   "source": [
    "According to the average accuracy, MLPC performs the best. However, the difference in performance between MLPC, KNeighbors, and GaussianNB is not that large. All 3 models get ~50-55% accuracy, which is still not very accurate."
   ]
  }
 ],
 "metadata": {
  "kernelspec": {
   "display_name": "Python 3 (ipykernel)",
   "language": "python",
   "name": "python3"
  },
  "language_info": {
   "codemirror_mode": {
    "name": "ipython",
    "version": 3
   },
   "file_extension": ".py",
   "mimetype": "text/x-python",
   "name": "python",
   "nbconvert_exporter": "python",
   "pygments_lexer": "ipython3",
   "version": "3.9.18"
  }
 },
 "nbformat": 4,
 "nbformat_minor": 5
}
